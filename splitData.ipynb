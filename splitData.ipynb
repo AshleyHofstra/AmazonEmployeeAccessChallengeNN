{
 "cells": [
  {
   "cell_type": "markdown",
   "metadata": {},
   "source": [
    "# Split Data\n",
    "Splits the data between test & training data because the test set from Kaggle doesn't have labels\n",
    "and I don't want to have to submit to Kaggle whenever I evaluate the model"
   ]
  },
  {
   "cell_type": "code",
   "execution_count": 1,
   "metadata": {},
   "outputs": [],
   "source": [
    "# Import libraries\n",
    "import pandas as pd\n",
    "import numpy as np\n",
    "from sklearn.model_selection import train_test_split\n"
   ]
  },
  {
   "cell_type": "code",
   "execution_count": 3,
   "metadata": {},
   "outputs": [],
   "source": [
    "# Download the csv file as a pandas Dataframe\n",
    "dir = \"./datasets\"\n",
    "dfKaggle = pd.read_csv(f\"{dir}/trainKaggle.csv\")"
   ]
  },
  {
   "cell_type": "code",
   "execution_count": 36,
   "metadata": {},
   "outputs": [
    {
     "name": "stdout",
     "output_type": "stream",
     "text": [
      "Index(['ACTION', 'RESOURCE', 'MGR_ID', 'ROLE_ROLLUP_1', 'ROLE_ROLLUP_2',\n",
      "       'ROLE_DEPTNAME', 'ROLE_TITLE', 'ROLE_FAMILY_DESC', 'ROLE_FAMILY',\n",
      "       'ROLE_CODE'],\n",
      "      dtype='object')\n",
      "\n",
      "Index(['RESOURCE', 'MGR_ID', 'ROLE_ROLLUP_1', 'ROLE_ROLLUP_2', 'ROLE_DEPTNAME',\n",
      "       'ROLE_TITLE', 'ROLE_FAMILY_DESC', 'ROLE_FAMILY', 'ROLE_CODE'],\n",
      "      dtype='object')\n"
     ]
    }
   ],
   "source": [
    "# Get column order\n",
    "cols = dfKaggle.columns\n",
    "print(cols)\n",
    "print()\n",
    "\n",
    "# Features\n",
    "print(cols[1:])"
   ]
  },
  {
   "cell_type": "code",
   "execution_count": 46,
   "metadata": {},
   "outputs": [],
   "source": [
    "# Split Data into training and validation\n",
    "Xtrain, Xtest, yTrain, yTest = train_test_split(\n",
    "    dfKaggle[cols[1:]], # X\n",
    "    dfKaggle[[\"ACTION\"]],                    # y\n",
    "    test_size=0.25,\n",
    "    random_state = 321)"
   ]
  },
  {
   "cell_type": "code",
   "execution_count": 47,
   "metadata": {},
   "outputs": [],
   "source": [
    "# Output to Csvs\n",
    "Xtrain.to_csv(f\"{dir}/Xtrain.csv\")\n",
    "yTrain.to_csv(f\"{dir}/yTrain.csv\")\n",
    "\n",
    "Xtest.to_csv(f\"{dir}/Xtest.csv\")\n",
    "yTest.to_csv(f\"{dir}/yTest.csv\")"
   ]
  },
  {
   "cell_type": "code",
   "execution_count": 48,
   "metadata": {},
   "outputs": [],
   "source": [
    "# Remove original Kaggle datasets\n",
    "! rm ./datasets/*Kaggle.csv"
   ]
  }
 ],
 "metadata": {
  "kernelspec": {
   "display_name": "Python 3",
   "language": "python",
   "name": "python3"
  },
  "language_info": {
   "codemirror_mode": {
    "name": "ipython",
    "version": 3
   },
   "file_extension": ".py",
   "mimetype": "text/x-python",
   "name": "python",
   "nbconvert_exporter": "python",
   "pygments_lexer": "ipython3",
   "version": "3.11.9"
  }
 },
 "nbformat": 4,
 "nbformat_minor": 2
}
